{
 "cells": [
  {
   "cell_type": "markdown",
   "metadata": {},
   "source": [
    "# WeatherAPI (Weather)\n",
    "\n",
    "Answer the following questions using [WeatherAPI](http://www.weatherapi.com/). I've added three cells for most questions but you're free to use more or less! Hold `Shift` and hit `Enter` to run a cell, and use the `+` on the top left to add a new cell to a notebook.\n",
    "\n",
    "Be sure to take advantage of both the documentation and the API Explorer!\n",
    "\n",
    "## 0) Import any libraries you might need\n",
    "\n",
    "- *Tip: We're going to be downloading things from the internet, so we probably need `requests`.*\n",
    "- *Tip: Remember you only need to import requests once!*"
   ]
  },
  {
   "cell_type": "code",
   "execution_count": null,
   "metadata": {},
   "outputs": [],
   "source": [
    "import requests"
   ]
  },
  {
   "cell_type": "markdown",
   "metadata": {
    "collapsed": true
   },
   "source": [
    "## 1) Make a request to the Weather API for where you were born (or lived, or want to visit!).\n",
    "\n",
    "- *Tip: The URL we used in class was for a place near San Francisco. What was the format of the endpoint that made this happen?*\n",
    "- *Tip: Save the URL as a separate variable, and be sure to not have `[` and `]` inside.*\n",
    "- *Tip: How is north vs. south and east vs. west latitude/longitude represented? Is it the normal North/South/East/West?*\n",
    "- *Tip: You know it's JSON, but Python doesn't! Make sure you aren't trying to deal with plain text.* \n",
    "- *Tip: Once you've imported the JSON into a variable, check the timezone's name to make sure it seems like it got the right part of the world!*"
   ]
  },
  {
   "cell_type": "code",
   "execution_count": null,
   "metadata": {},
   "outputs": [],
   "source": [
    "url = \"http://api.weatherapi.com/v1/current.json?key=&q=Ningbo\""
   ]
  },
  {
   "cell_type": "code",
   "execution_count": null,
   "metadata": {},
   "outputs": [],
   "source": [
    "response1 = requests.get(url)\n",
    "ningbo_wheather = response1.json()"
   ]
  },
  {
   "cell_type": "code",
   "execution_count": null,
   "metadata": {},
   "outputs": [],
   "source": [
    "print(ningbo_wheather)"
   ]
  },
  {
   "cell_type": "markdown",
   "metadata": {},
   "source": [
    "## 2) What's the current wind speed? How much warmer does it feel than it actually is?\n",
    "\n",
    "- *Tip: You can do this by browsing through the dictionaries, but it might be easier to read the documentation*\n",
    "- *Tip: For the second half: it **is** one temperature, and it **feels** a different temperature. Calculate the difference.*"
   ]
  },
  {
   "cell_type": "code",
   "execution_count": null,
   "metadata": {},
   "outputs": [],
   "source": [
    "wind = ningbo_wheather['current']['wind_mph']"
   ]
  },
  {
   "cell_type": "code",
   "execution_count": null,
   "metadata": {},
   "outputs": [],
   "source": [
    "#Reference: https://www.weatherapi.com/docs/\n",
    "#wind_mph: wind speed in miles per hour\n",
    "print(f\"The current wind speed is {wind} miles per hour.\")"
   ]
  },
  {
   "cell_type": "code",
   "execution_count": null,
   "metadata": {},
   "outputs": [],
   "source": [
    "ningbo_temp_c = ningbo_wheather[\"current\"][\"temp_c\"]\n",
    "ningbo_feelslike_c = ningbo_wheather[\"current\"][\"feelslike_c\"]\n",
    "difference = ningbo_feelslike_c - ningbo_temp_c\n",
    "if ningbo_feelslike_c > ningbo_temp_c:\n",
    "    print(f\"It feels {difference} Celsius degrees warmer.\")\n",
    "else:\n",
    "    print(f\"It feels {abs(difference)} Celsius degrees colder.\")"
   ]
  },
  {
   "cell_type": "markdown",
   "metadata": {},
   "source": [
    "## 3) What is the API endpoint for moon-related information? For the place you decided on above, how much of the moon will be visible tomorrow?\n",
    "\n",
    "- *Tip: Check the documentation!*\n",
    "- *Tip: If you aren't sure what something means, ask in Slack*"
   ]
  },
  {
   "cell_type": "code",
   "execution_count": null,
   "metadata": {},
   "outputs": [],
   "source": [
    "url_forecast_two = \"http://api.weatherapi.com/v1/forecast.json?key=&q=Ningbo&days=2\""
   ]
  },
  {
   "cell_type": "code",
   "execution_count": null,
   "metadata": {},
   "outputs": [],
   "source": [
    "response2 = requests.get(url_forecast_two)\n",
    "ningbo_forecast = response2.json()\n",
    "tomorrow = ningbo_forecast['forecast']['forecastday'][1]\n",
    "tomorrow_moon = tomorrow['astro']['moon_phase']\n",
    "print(tomorrow_moon)"
   ]
  },
  {
   "cell_type": "markdown",
   "metadata": {},
   "source": [
    "## 4) What's the difference between the high and low temperatures for today?\n",
    "\n",
    "- *Tip: When you requested moon data, you probably overwrote your variables! If so, you'll need to make a new request.*"
   ]
  },
  {
   "cell_type": "code",
   "execution_count": null,
   "metadata": {},
   "outputs": [],
   "source": [
    "today = ningbo_forecast['forecast']['forecastday'][0]\n",
    "today_day = today['day']\n",
    "high_tem = today_day['maxtemp_c']\n",
    "low_tem = today_day['mintemp_c']\n",
    "difference = high_tem - low_tem\n",
    "print(difference)"
   ]
  },
  {
   "cell_type": "markdown",
   "metadata": {
    "collapsed": true
   },
   "source": [
    "## 4.5) How can you avoid the \"oh no I don't have the data any more because I made another request\" problem in the future?\n",
    "\n",
    "What variable(s) do you have to rename, and what would you rename them?"
   ]
  },
  {
   "cell_type": "code",
   "execution_count": null,
   "metadata": {},
   "outputs": [],
   "source": [
    "#make sure the url, request.get, response.json() are named in a reasonable and different way"
   ]
  },
  {
   "cell_type": "markdown",
   "metadata": {},
   "source": [
    "## 5) Go through the daily forecasts, printing out the next three days' worth of predictions.\n",
    "\n",
    "I'd like to know the **high temperature** for each day, and whether it's **hot, warm, or cold** (based on what temperatures you think are hot, warm or cold).\n",
    "\n",
    "- *Tip: You'll need to use an `if` statement to say whether it is hot, warm or cold.*"
   ]
  },
  {
   "cell_type": "code",
   "execution_count": null,
   "metadata": {},
   "outputs": [],
   "source": [
    "#hot: temp_c > 20; warm: temp_c <=20 and temp_c >=10; cold: temp_c < 10"
   ]
  },
  {
   "cell_type": "code",
   "execution_count": null,
   "metadata": {},
   "outputs": [],
   "source": [
    "url_forecast_three = \"http://api.weatherapi.com/v1/forecast.json?key=&q=Ningbo&days=3\"\n",
    "response3 = requests.get(url_forecast_three)\n",
    "ningbo_forecast_three = response3.json()"
   ]
  },
  {
   "cell_type": "code",
   "execution_count": null,
   "metadata": {},
   "outputs": [],
   "source": [
    "forecastdays = ningbo_forecast_three['forecast']['forecastday']\n",
    "for forecastday in forecastdays:\n",
    "    date = forecastday['date']\n",
    "    max_temp = forecastday['day']['maxtemp_c']\n",
    "    if max_temp > 20:\n",
    "        print(f\"{date} is hot.\")\n",
    "    elif max_temp < 10:\n",
    "        print(f\"{date} is cold.\")\n",
    "    else:\n",
    "        print(f\"{date} is warm.\")"
   ]
  },
  {
   "cell_type": "markdown",
   "metadata": {},
   "source": [
    "## 5b) The question above used to be an entire week, but not any more. Try to re-use the code above to print out seven days.\n",
    "\n",
    "What happens? Can you figure out why it doesn't work?\n",
    "\n",
    "* *Tip: it has to do with the reason you're using an API key - maybe take a look at the \"Air Quality Data\" introduction for a hint? If you can't figure it out right now, no worries.*"
   ]
  },
  {
   "cell_type": "code",
   "execution_count": null,
   "metadata": {},
   "outputs": [],
   "source": [
    "url_forecast_seven = \"http://api.weatherapi.com/v1/forecast.json?key=&q=Ningbo&days=4\"\n",
    "response4 = requests.get(url_forecast_seven)\n",
    "ningbo_forecast_seven = response4.json()\n",
    "forecastdays_seven = ningbo_forecast_seven['forecast']['forecastday']"
   ]
  },
  {
   "cell_type": "code",
   "execution_count": null,
   "metadata": {},
   "outputs": [],
   "source": [
    "for forecastday in forecastdays_seven:\n",
    "    date = forecastday['date']\n",
    "    max_temp = forecastday['day']['maxtemp_c']\n",
    "    if max_temp > 20:\n",
    "        print(f\"{date} is hot.\")\n",
    "    elif max_temp < 10:\n",
    "        print(f\"{date} is cold.\")\n",
    "    else:\n",
    "        print(f\"{date} is warm.\")"
   ]
  },
  {
   "cell_type": "code",
   "execution_count": null,
   "metadata": {},
   "outputs": [],
   "source": [
    "#Depending upon your subscription plan we provide current and 3 day air quality data for the given location in json and xml."
   ]
  },
  {
   "cell_type": "markdown",
   "metadata": {},
   "source": [
    "## 6) What will be the hottest day in the next three days? What is the high temperature on that day?"
   ]
  },
  {
   "cell_type": "code",
   "execution_count": null,
   "metadata": {},
   "outputs": [],
   "source": [
    "forecastdays = ningbo_forecast_three['forecast']['forecastday']\n",
    "dates = []\n",
    "max_temps = []\n",
    "max_temp_three = {}\n",
    "for forecastday in forecastdays:\n",
    "    date = forecastday['date']\n",
    "    dates.append(date)\n",
    "    max_temp = forecastday['day']['maxtemp_c']\n",
    "    max_temps.append(max_temp)\n",
    "max_temp_three = dict(zip(dates, max_temps))\n",
    "for key, value in max_temp_three.items():\n",
    "    if value == max(max_temp_three.values()):\n",
    "        print(f\"The hottest day in the next three days is {key}. The highest temperature on that day is {value}.\")"
   ]
  },
  {
   "cell_type": "markdown",
   "metadata": {},
   "source": [
    "## 7) What's the weather looking like for the next 24+ hours in Miami, Florida?\n",
    "\n",
    "I'd like to know the temperature for every hour, and if it's going to have cloud cover of more than 50% say \"{temperature} and cloudy\" instead of just the temperature. \n",
    "\n",
    "- *Tip: You'll only need one day of forecast*"
   ]
  },
  {
   "cell_type": "code",
   "execution_count": null,
   "metadata": {},
   "outputs": [],
   "source": [
    "url_florida = \"http://api.weatherapi.com/v1/forecast.json?key=&q=Miami&days=1\"\n",
    "response5 = requests.get(url_florida)\n",
    "florida = response5.json()"
   ]
  },
  {
   "cell_type": "code",
   "execution_count": null,
   "metadata": {},
   "outputs": [],
   "source": [
    "florida_hours = florida['forecast']['forecastday'][0]['hour']\n",
    "for hour in florida_hours:\n",
    "    time = hour['time']\n",
    "    temperature = hour['temp_f']\n",
    "    cloud = hour['cloud']\n",
    "    if cloud > 50:\n",
    "        print(f\"{time}: {temperature} ℉ and cloudy\")\n",
    "    else:\n",
    "        print(f\"{time}: {temperature} ℉\")"
   ]
  },
  {
   "cell_type": "code",
   "execution_count": null,
   "metadata": {},
   "outputs": [],
   "source": []
  },
  {
   "cell_type": "markdown",
   "metadata": {},
   "source": [
    "## 8) For the next 24-ish hours in Miami, what percent of the time is the temperature above 85 degrees?\n",
    "\n",
    "- *Tip: You might want to read up on [looping patterns](http://jonathansoma.com/lede/foundations-2017/classes/data%20structures/looping-patterns/)*"
   ]
  },
  {
   "cell_type": "code",
   "execution_count": null,
   "metadata": {},
   "outputs": [],
   "source": [
    "count_above85 = 0\n",
    "for hour in florida_hours:\n",
    "    temperature = hour['temp_f']\n",
    "    if temperature > 85:\n",
    "        count_above85 = count_above85 + 1\n",
    "pct = count_above85/24\n",
    "print(pct)"
   ]
  },
  {
   "cell_type": "markdown",
   "metadata": {},
   "source": [
    "## 9) How much will it cost if you need to use 1,500,000 API calls?\n",
    "\n",
    "You are only allowed 1,000,000 API calls each month. If you were really bad at this homework or made some awful loops, WeatherAPI might shut down your free access. \n",
    "\n",
    "* *Tip: this involves looking somewhere that isn't the normal documentation.*"
   ]
  },
  {
   "cell_type": "code",
   "execution_count": null,
   "metadata": {},
   "outputs": [],
   "source": [
    "#https://www.weatherapi.com/pricing.aspx\n",
    "#$4/month to get 2,000,000 Calls per month"
   ]
  },
  {
   "cell_type": "markdown",
   "metadata": {},
   "source": [
    "## 10) You're too poor to spend more money! What else could you do instead of give them money?\n",
    "\n",
    "* *Tip: I'm not endorsing being sneaky, but newsrooms and students are both generally poverty-stricken.*"
   ]
  },
  {
   "cell_type": "code",
   "execution_count": null,
   "metadata": {},
   "outputs": [],
   "source": [
    "#use another email address to register another account and get another API key!"
   ]
  }
 ],
 "metadata": {
  "kernelspec": {
   "display_name": "Python 3 (ipykernel)",
   "language": "python",
   "name": "python3"
  },
  "language_info": {
   "codemirror_mode": {
    "name": "ipython",
    "version": 3
   },
   "file_extension": ".py",
   "mimetype": "text/x-python",
   "name": "python",
   "nbconvert_exporter": "python",
   "pygments_lexer": "ipython3",
   "version": "3.9.7"
  }
 },
 "nbformat": 4,
 "nbformat_minor": 1
}
